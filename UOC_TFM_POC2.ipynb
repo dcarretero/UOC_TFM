{
  "nbformat": 4,
  "nbformat_minor": 0,
  "metadata": {
    "colab": {
      "provenance": [],
      "mount_file_id": "1CkbvRrZJZZ7OQtKnRHUYazWwhtuYJIUW",
      "authorship_tag": "ABX9TyMlmrhMqK/qselcvclYceSf",
      "include_colab_link": true
    },
    "kernelspec": {
      "name": "python3",
      "display_name": "Python 3"
    },
    "language_info": {
      "name": "python"
    }
  },
  "cells": [
    {
      "cell_type": "markdown",
      "metadata": {
        "id": "view-in-github",
        "colab_type": "text"
      },
      "source": [
        "<a href=\"https://colab.research.google.com/github/dcarretero/UOC_TFM/blob/main/UOC_TFM_POC2.ipynb\" target=\"_parent\"><img src=\"https://colab.research.google.com/assets/colab-badge.svg\" alt=\"Open In Colab\"/></a>"
      ]
    },
    {
      "cell_type": "code",
      "execution_count": 1,
      "metadata": {
        "colab": {
          "base_uri": "https://localhost:8080/"
        },
        "id": "N18vofYkoa8X",
        "outputId": "e36a008e-ea96-449e-edce-2ea387ab1418"
      },
      "outputs": [
        {
          "output_type": "stream",
          "name": "stderr",
          "text": [
            "YOLOv5 🚀 v7.0-108-g4db6757 Python-3.8.10 torch-1.13.1+cu116 CPU\n"
          ]
        },
        {
          "output_type": "stream",
          "name": "stdout",
          "text": [
            "Setup complete ✅ (2 CPUs, 12.7 GB RAM, 24.4/225.8 GB disk)\n"
          ]
        }
      ],
      "source": [
        "!git clone https://github.com/ultralytics/yolov5  # clone\n",
        "%cd yolov5\n",
        "%pip install -qr requirements.txt  # install\n",
        "\n",
        "import torch\n",
        "import utils\n",
        "display = utils.notebook_init() "
      ]
    },
    {
      "cell_type": "code",
      "source": [
        "!python detect.py --weights yolov5s.pt --img 500 --conf 0.25 --source '/content/drive/MyDrive/Colab Notebooks/UOC_TFM/data_images/train' --save-txt"
      ],
      "metadata": {
        "colab": {
          "base_uri": "https://localhost:8080/"
        },
        "id": "hty-_EJfro3C",
        "outputId": "0baa6db7-b76d-4d1b-9f92-21066c91035b"
      },
      "execution_count": 8,
      "outputs": [
        {
          "output_type": "stream",
          "name": "stdout",
          "text": [
            "\u001b[34m\u001b[1mdetect: \u001b[0mweights=['yolov5s.pt'], source=/content/drive/MyDrive/Colab Notebooks/UOC_TFM/data_images/train, data=data/coco128.yaml, imgsz=[500, 500], conf_thres=0.25, iou_thres=0.45, max_det=1000, device=, view_img=False, save_txt=True, save_conf=False, save_crop=False, nosave=False, classes=None, agnostic_nms=False, augment=False, visualize=False, update=False, project=runs/detect, name=exp, exist_ok=False, line_thickness=3, hide_labels=False, hide_conf=False, half=False, dnn=False, vid_stride=1\n",
            "YOLOv5 🚀 v7.0-108-g4db6757 Python-3.8.10 torch-1.13.1+cu116 CPU\n",
            "\n",
            "Fusing layers... \n",
            "YOLOv5s summary: 213 layers, 7225885 parameters, 0 gradients\n",
            "WARNING ⚠️ --img-size [500, 500] must be multiple of max stride 32, updating to [512, 512]\n",
            "image 1/66 /content/drive/MyDrive/Colab Notebooks/UOC_TFM/data_images/train/001_500.jpg: 512x512 1 wine glass, 1 cup, 4 forks, 1 knife, 1 dining table, 9 vases, 328.8ms\n",
            "image 2/66 /content/drive/MyDrive/Colab Notebooks/UOC_TFM/data_images/train/002_500.jpg: 512x512 8 wine glasss, 1 fork, 1 dining table, 373.8ms\n",
            "image 3/66 /content/drive/MyDrive/Colab Notebooks/UOC_TFM/data_images/train/003_500..jpg: 512x512 3 wine glasss, 1 knife, 1 chair, 1 potted plant, 1 dining table, 1 vase, 310.1ms\n",
            "image 4/66 /content/drive/MyDrive/Colab Notebooks/UOC_TFM/data_images/train/003_500.jpg: 512x512 3 wine glasss, 1 knife, 1 chair, 1 potted plant, 1 dining table, 1 vase, 313.5ms\n",
            "image 5/66 /content/drive/MyDrive/Colab Notebooks/UOC_TFM/data_images/train/004_500.jpg: 512x512 9 wine glasss, 2 cups, 1 dining table, 321.9ms\n",
            "image 6/66 /content/drive/MyDrive/Colab Notebooks/UOC_TFM/data_images/train/005_500.jpg: 512x512 1 car, 7 wine glasss, 1 cup, 6 chairs, 1 dining table, 306.0ms\n",
            "image 7/66 /content/drive/MyDrive/Colab Notebooks/UOC_TFM/data_images/train/007_500.jpeg: 512x512 3 bottles, 1 wine glass, 8 cups, 3 forks, 2 knifes, 3 chairs, 1 dining table, 319.0ms\n",
            "image 8/66 /content/drive/MyDrive/Colab Notebooks/UOC_TFM/data_images/train/008_500.jpg: 512x512 1 person, 301.4ms\n",
            "image 9/66 /content/drive/MyDrive/Colab Notebooks/UOC_TFM/data_images/train/009_500.jpg: 512x512 2 wine glasss, 1 cake, 1 dining table, 310.5ms\n",
            "image 10/66 /content/drive/MyDrive/Colab Notebooks/UOC_TFM/data_images/train/010_500.jpg: 512x512 1 cat, 6 wine glasss, 1 cup, 1 dining table, 313.5ms\n",
            "image 11/66 /content/drive/MyDrive/Colab Notebooks/UOC_TFM/data_images/train/011_500.jpg: 512x512 1 wine glass, 1 dining table, 316.4ms\n",
            "image 12/66 /content/drive/MyDrive/Colab Notebooks/UOC_TFM/data_images/train/012_500.jpg: 512x512 7 wine glasss, 1 spoon, 1 dining table, 306.1ms\n",
            "image 13/66 /content/drive/MyDrive/Colab Notebooks/UOC_TFM/data_images/train/015_500.jpg: 512x512 3 cups, 317.7ms\n",
            "image 14/66 /content/drive/MyDrive/Colab Notebooks/UOC_TFM/data_images/train/016_500.jpg: 512x512 8 wine glasss, 1 spoon, 3 chairs, 1 dining table, 1 vase, 305.2ms\n",
            "image 15/66 /content/drive/MyDrive/Colab Notebooks/UOC_TFM/data_images/train/017_500.jpg: 512x512 4 wine glasss, 1 dining table, 308.5ms\n",
            "image 16/66 /content/drive/MyDrive/Colab Notebooks/UOC_TFM/data_images/train/019_500.jpg: 512x512 3 wine glasss, 2 cups, 1 fork, 1 dining table, 360.2ms\n",
            "image 17/66 /content/drive/MyDrive/Colab Notebooks/UOC_TFM/data_images/train/020_500.jpg: 512x512 4 wine glasss, 551.8ms\n",
            "image 18/66 /content/drive/MyDrive/Colab Notebooks/UOC_TFM/data_images/train/022_500.jpg: 512x512 1 person, 1 cup, 1 chair, 542.0ms\n",
            "image 19/66 /content/drive/MyDrive/Colab Notebooks/UOC_TFM/data_images/train/025_500.jpg: 512x512 3 persons, 2 wine glasss, 1 cup, 2 forks, 1 knife, 1 sandwich, 1 potted plant, 1 vase, 523.2ms\n",
            "image 20/66 /content/drive/MyDrive/Colab Notebooks/UOC_TFM/data_images/train/026_500..jpg: 512x512 5 cups, 1 potted plant, 3 vases, 506.0ms\n",
            "image 21/66 /content/drive/MyDrive/Colab Notebooks/UOC_TFM/data_images/train/026_500.jpg: 512x512 5 cups, 1 potted plant, 3 vases, 516.9ms\n",
            "image 22/66 /content/drive/MyDrive/Colab Notebooks/UOC_TFM/data_images/train/027_500..jpg: 512x512 4 wine glasss, 2 cups, 1 knife, 3 chairs, 1 potted plant, 1 dining table, 496.1ms\n",
            "image 23/66 /content/drive/MyDrive/Colab Notebooks/UOC_TFM/data_images/train/027_500.jpg: 512x512 4 wine glasss, 2 cups, 1 knife, 3 chairs, 1 potted plant, 1 dining table, 328.5ms\n",
            "image 24/66 /content/drive/MyDrive/Colab Notebooks/UOC_TFM/data_images/train/028_500..jpg: 512x512 10 persons, 1 car, 1 umbrella, 1 wine glass, 5 chairs, 316.1ms\n",
            "image 25/66 /content/drive/MyDrive/Colab Notebooks/UOC_TFM/data_images/train/028_500.jpg: 512x512 10 persons, 1 car, 1 umbrella, 1 wine glass, 5 chairs, 311.2ms\n",
            "image 26/66 /content/drive/MyDrive/Colab Notebooks/UOC_TFM/data_images/train/029_500.jpg: 512x512 1 bottle, 2 cups, 1 dining table, 301.6ms\n",
            "image 27/66 /content/drive/MyDrive/Colab Notebooks/UOC_TFM/data_images/train/030_500.jpg: 512x512 8 wine glasss, 2 forks, 1 knife, 3 spoons, 4 chairs, 1 dining table, 317.8ms\n",
            "image 28/66 /content/drive/MyDrive/Colab Notebooks/UOC_TFM/data_images/train/031_500.jpg: 512x512 10 bottles, 2 wine glasss, 4 chairs, 1 potted plant, 1 dining table, 309.0ms\n",
            "image 29/66 /content/drive/MyDrive/Colab Notebooks/UOC_TFM/data_images/train/032_500.jpeg: 512x512 3 persons, 1 car, 2 bottles, 3 wine glasss, 3 chairs, 317.5ms\n",
            "image 30/66 /content/drive/MyDrive/Colab Notebooks/UOC_TFM/data_images/train/033_500.jpg: 512x512 2 cups, 1 fork, 3 chairs, 1 potted plant, 1 dining table, 1 vase, 303.8ms\n",
            "image 31/66 /content/drive/MyDrive/Colab Notebooks/UOC_TFM/data_images/train/034_500.jpg: 512x512 3 bottles, 5 wine glasss, 1 cup, 1 bowl, 1 chair, 2 potted plants, 1 dining table, 1 vase, 311.5ms\n",
            "image 32/66 /content/drive/MyDrive/Colab Notebooks/UOC_TFM/data_images/train/035_500.jpg: 512x512 3 cups, 1 dining table, 304.4ms\n",
            "image 33/66 /content/drive/MyDrive/Colab Notebooks/UOC_TFM/data_images/train/036_500.jpg: 512x512 1 person, 2 cups, 1 chair, 1 dining table, 305.4ms\n",
            "image 34/66 /content/drive/MyDrive/Colab Notebooks/UOC_TFM/data_images/train/037_500.jpg: 512x512 3 wine glasss, 4 cups, 1 dining table, 1 vase, 316.3ms\n",
            "image 35/66 /content/drive/MyDrive/Colab Notebooks/UOC_TFM/data_images/train/038_500.jpg: 512x512 2 wine glasss, 1 cup, 1 fork, 1 knife, 1 bowl, 1 dining table, 319.1ms\n",
            "image 36/66 /content/drive/MyDrive/Colab Notebooks/UOC_TFM/data_images/train/039_500.jpg: 512x512 2 wine glasss, 8 cups, 1 fork, 3 knifes, 1 spoon, 3 bowls, 2 potted plants, 1 dining table, 296.9ms\n",
            "image 37/66 /content/drive/MyDrive/Colab Notebooks/UOC_TFM/data_images/train/040_500.jpg: 512x512 1 wine glass, 1 cup, 1 chair, 1 dining table, 1 vase, 319.2ms\n",
            "image 38/66 /content/drive/MyDrive/Colab Notebooks/UOC_TFM/data_images/train/041_500..jpg: 512x512 4 wine glasss, 2 forks, 1 knife, 1 dining table, 307.9ms\n",
            "image 39/66 /content/drive/MyDrive/Colab Notebooks/UOC_TFM/data_images/train/041_500.jpg: 512x512 4 wine glasss, 2 forks, 1 knife, 1 dining table, 315.0ms\n",
            "image 40/66 /content/drive/MyDrive/Colab Notebooks/UOC_TFM/data_images/train/042_500.jpg: 512x512 5 persons, 1 tie, 5 wine glasss, 4 cups, 1 chair, 1 dining table, 314.4ms\n",
            "image 41/66 /content/drive/MyDrive/Colab Notebooks/UOC_TFM/data_images/train/043_500.jpg: 512x512 1 bottle, 2 wine glasss, 4 cups, 1 bowl, 4 cakes, 1 dining table, 324.7ms\n",
            "image 42/66 /content/drive/MyDrive/Colab Notebooks/UOC_TFM/data_images/train/044_500.jpg: 512x512 3 bottles, 5 cups, 1 bowl, 3 cakes, 1 dining table, 326.1ms\n",
            "image 43/66 /content/drive/MyDrive/Colab Notebooks/UOC_TFM/data_images/train/045_500.jpg: 512x512 1 wine glass, 1 cup, 2 forks, 1 knife, 1 spoon, 1 bowl, 1 dining table, 1 clock, 353.9ms\n",
            "image 44/66 /content/drive/MyDrive/Colab Notebooks/UOC_TFM/data_images/train/047_500.jpg: 512x512 3 bottles, 6 wine glasss, 1 fork, 1 knife, 10 chairs, 2 dining tables, 332.1ms\n",
            "image 45/66 /content/drive/MyDrive/Colab Notebooks/UOC_TFM/data_images/train/048_500.jpg: 512x512 1 person, 1 cup, 1 chair, 327.6ms\n",
            "image 46/66 /content/drive/MyDrive/Colab Notebooks/UOC_TFM/data_images/train/049_500.jpg: 512x512 2 wine glasss, 314.1ms\n",
            "image 47/66 /content/drive/MyDrive/Colab Notebooks/UOC_TFM/data_images/train/050_500.jpg: 512x512 1 car, 7 wine glasss, 1 cup, 4 chairs, 1 dining table, 319.8ms\n",
            "image 48/66 /content/drive/MyDrive/Colab Notebooks/UOC_TFM/data_images/train/051_500.jpg: 512x512 6 wine glasss, 1 fork, 1 knife, 309.4ms\n",
            "image 49/66 /content/drive/MyDrive/Colab Notebooks/UOC_TFM/data_images/train/053_500.jpg: 512x512 1 bottle, 2 wine glasss, 2 forks, 1 knife, 2 potted plants, 1 vase, 330.9ms\n",
            "image 50/66 /content/drive/MyDrive/Colab Notebooks/UOC_TFM/data_images/train/054_500.jpg: 512x512 2 wine glasss, 1 cup, 1 fork, 2 bowls, 1 dining table, 1 cell phone, 309.7ms\n",
            "image 51/66 /content/drive/MyDrive/Colab Notebooks/UOC_TFM/data_images/train/055_500..jpg: 512x512 1 bottle, 3 wine glasss, 4 cups, 2 bowls, 1 orange, 1 dining table, 3 vases, 311.1ms\n",
            "image 52/66 /content/drive/MyDrive/Colab Notebooks/UOC_TFM/data_images/train/055_500.jpg: 512x512 3 wine glasss, 4 cups, 2 bowls, 1 orange, 1 dining table, 3 vases, 314.7ms\n",
            "image 53/66 /content/drive/MyDrive/Colab Notebooks/UOC_TFM/data_images/train/056_500.jpg: 512x512 4 wine glasss, 2 forks, 2 knifes, 1 spoon, 1 cake, 1 dining table, 465.4ms\n",
            "image 54/66 /content/drive/MyDrive/Colab Notebooks/UOC_TFM/data_images/train/057_500.jpg: 512x512 1 cup, 1 dining table, 526.2ms\n",
            "Corrupt JPEG data: premature end of data segment\n",
            "image 55/66 /content/drive/MyDrive/Colab Notebooks/UOC_TFM/data_images/train/058_500.jpg: 512x512 7 persons, 2 bottles, 2 wine glasss, 4 cups, 2 bowls, 1 dining table, 517.5ms\n",
            "image 56/66 /content/drive/MyDrive/Colab Notebooks/UOC_TFM/data_images/train/059_500..jpg: 512x512 6 persons, 4 bottles, 2 wine glasss, 2 cups, 2 bowls, 1 dining table, 1 microwave, 521.1ms\n",
            "image 57/66 /content/drive/MyDrive/Colab Notebooks/UOC_TFM/data_images/train/059_500.jpg: 512x512 6 persons, 4 bottles, 2 wine glasss, 2 cups, 2 bowls, 1 dining table, 1 microwave, 527.4ms\n",
            "image 58/66 /content/drive/MyDrive/Colab Notebooks/UOC_TFM/data_images/train/060_500.jpg: 512x512 3 persons, 5 wine glasss, 5 cups, 1 bowl, 1 dining table, 526.5ms\n",
            "image 59/66 /content/drive/MyDrive/Colab Notebooks/UOC_TFM/data_images/train/062_500.jpg: 512x512 3 persons, 1 bird, 7 wine glasss, 8 cups, 1 dining table, 424.6ms\n",
            "image 60/66 /content/drive/MyDrive/Colab Notebooks/UOC_TFM/data_images/train/063_500.jpg: 512x512 5 persons, 1 traffic light, 1 bench, 1 umbrella, 3 wine glasss, 2 chairs, 1 dining table, 320.8ms\n",
            "image 61/66 /content/drive/MyDrive/Colab Notebooks/UOC_TFM/data_images/train/064_500.jpg: 512x512 6 persons, 3 wine glasss, 1 cup, 3 chairs, 1 potted plant, 1 dining table, 315.3ms\n",
            "image 62/66 /content/drive/MyDrive/Colab Notebooks/UOC_TFM/data_images/train/065_500.jpg: 512x512 4 persons, 1 bottle, 12 wine glasss, 1 dining table, 302.5ms\n",
            "image 63/66 /content/drive/MyDrive/Colab Notebooks/UOC_TFM/data_images/train/066_500.jpg: 512x512 2 cups, 1 fork, 1 bowl, 1 sandwich, 1 dining table, 315.0ms\n",
            "image 64/66 /content/drive/MyDrive/Colab Notebooks/UOC_TFM/data_images/train/067_500.jpg: 512x512 3 persons, 1 wine glass, 1 cup, 1 fork, 2 knifes, 1 bowl, 1 broccoli, 1 dining table, 307.3ms\n",
            "image 65/66 /content/drive/MyDrive/Colab Notebooks/UOC_TFM/data_images/train/068_500.jpg: 512x512 6 persons, 2 wine glasss, 1 fork, 1 knife, 1 chair, 1 potted plant, 1 dining table, 312.3ms\n",
            "image 66/66 /content/drive/MyDrive/Colab Notebooks/UOC_TFM/data_images/train/069_500.jpg: 512x512 2 wine glasss, 1 apple, 1 dining table, 318.0ms\n",
            "Speed: 0.5ms pre-process, 355.1ms inference, 0.8ms NMS per image at shape (1, 3, 512, 512)\n",
            "Results saved to \u001b[1mruns/detect/exp5\u001b[0m\n",
            "66 labels saved to runs/detect/exp5/labels\n"
          ]
        }
      ]
    }
  ]
}