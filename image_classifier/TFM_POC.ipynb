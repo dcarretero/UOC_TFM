{
 "cells": [
  {
   "cell_type": "markdown",
   "source": [
    "# 0. Importación de librerías"
   ],
   "metadata": {
    "collapsed": false
   }
  },
  {
   "cell_type": "code",
   "execution_count": 1,
   "outputs": [],
   "source": [
    "import os.path\n",
    "import pandas as pd"
   ],
   "metadata": {
    "collapsed": false
   }
  },
  {
   "cell_type": "code",
   "execution_count": 2,
   "outputs": [],
   "source": [
    "from datapreparation.imagehelper import ImageHelper\n",
    "from objectdetection.objectdetectorhelper import ObjectDetector"
   ],
   "metadata": {
    "collapsed": false
   }
  },
  {
   "cell_type": "markdown",
   "source": [
    "# 1. Preparación de datos\n",
    "\n",
    "Se ha generado un package denominado \"datapreparation\" donde se van a meter todas las clases que implementen\n",
    "funcionalidad para la preparación de datos.\n",
    "Entre las funcionalidades que están:\n",
    "- Imágenes\n",
    "    - redimensionamiento de imágenes\n",
    "    - conversión de labels xml a ficheros txt compatibles con yolo para entrenamiento de clases no preentrenadas"
   ],
   "metadata": {
    "collapsed": false
   }
  },
  {
   "cell_type": "markdown",
   "source": [
    "# 2. Detección de objetos\n",
    "Se ha creado otro package denominado \"objectdetection\" centrado en la detección de objetos, ya sea de clases preentrenadas o nuevas mediante la libreria yolo."
   ],
   "metadata": {
    "collapsed": false
   }
  },
  {
   "cell_type": "markdown",
   "source": [
    "## 2.1. Detección de objetos de clases preentrenadas\n",
    "Se usa la libreria yolo v8 con el modelo yolov8m para detectar todas las clases preentrenadas. Los resultados de predicciones acabarán en una carpeta \"runs/detect/predict\" un nivel por encima de la de proyecto. En la subcarpeta de \"labels\" dejará en formato txt ficheros que definen los \"bounding boxes\" y la clase de los mismos para cada una de las imagenes. Los tipos de objetos que yolo puede detectar se pueden ver en el fichero \"labels.txt\"."
   ],
   "metadata": {
    "collapsed": false
   }
  },
  {
   "cell_type": "code",
   "execution_count": null,
   "outputs": [],
   "source": [
    "PATH_MODELO_YOLO = \"./models/yolov8m.pt\"\n",
    "PATH_IMAGENES_A_ANALIZAR = \"c:/Users/dcsj/OneDrive/Formación/Masters & Postgrados/En Curso/UOC-Master en Ciencia de Datos/TFM/Imagenes/Movil-S21\"\n",
    "# Se crea el objeto ObjectDetector que ayudará en toda la gestión de detección de objetos\n",
    "objectdetector = ObjectDetector()\n",
    "objectdetector.detectionPretrainedClasses(PATH_MODELO_YOLO,PATH_IMAGENES_A_ANALIZAR)\n"
   ],
   "metadata": {
    "collapsed": false
   }
  }
 ],
 "metadata": {
  "kernelspec": {
   "display_name": "Python 3",
   "language": "python",
   "name": "python3"
  },
  "language_info": {
   "codemirror_mode": {
    "name": "ipython",
    "version": 2
   },
   "file_extension": ".py",
   "mimetype": "text/x-python",
   "name": "python",
   "nbconvert_exporter": "python",
   "pygments_lexer": "ipython2",
   "version": "2.7.6"
  }
 },
 "nbformat": 4,
 "nbformat_minor": 0
}
